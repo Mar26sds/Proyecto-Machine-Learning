{
 "cells": [
  {
   "cell_type": "code",
   "execution_count": 86,
   "id": "423cb8f6",
   "metadata": {},
   "outputs": [],
   "source": [
    "import pandas as pd\n",
    "import numpy as np"
   ]
  },
  {
   "cell_type": "markdown",
   "id": "5069f86e",
   "metadata": {},
   "source": [
    "# Cargar los datos y visualizar sus características"
   ]
  },
  {
   "cell_type": "code",
   "execution_count": 87,
   "id": "0e417676",
   "metadata": {},
   "outputs": [],
   "source": [
    "data=pd.read_csv('/Users/mar/bt-ironhack-agosto-2022-ml-competition/salaries_data.csv')"
   ]
  },
  {
   "cell_type": "code",
   "execution_count": 88,
   "id": "2b1d2137",
   "metadata": {},
   "outputs": [],
   "source": [
    "data_test=pd.read_csv('/Users/mar/bt-ironhack-agosto-2022-ml-competition/test.csv')"
   ]
  },
  {
   "cell_type": "code",
   "execution_count": 89,
   "id": "5e5a464c",
   "metadata": {},
   "outputs": [],
   "source": [
    "data_concat=pd.concat([data, data_test])"
   ]
  },
  {
   "cell_type": "code",
   "execution_count": 90,
   "id": "0af890cc",
   "metadata": {},
   "outputs": [
    {
     "name": "stdout",
     "output_type": "stream",
     "text": [
      "<class 'pandas.core.frame.DataFrame'>\n",
      "Int64Index: 607 entries, 0 to 106\n",
      "Data columns (total 9 columns):\n",
      " #   Column              Non-Null Count  Dtype  \n",
      "---  ------              --------------  -----  \n",
      " 0   work_year           607 non-null    int64  \n",
      " 1   experience_level    607 non-null    object \n",
      " 2   employment_type     607 non-null    object \n",
      " 3   job_title           607 non-null    object \n",
      " 4   salary_in_usd       500 non-null    float64\n",
      " 5   employee_residence  607 non-null    object \n",
      " 6   remote_ratio        607 non-null    int64  \n",
      " 7   company_location    607 non-null    object \n",
      " 8   company_size        607 non-null    object \n",
      "dtypes: float64(1), int64(2), object(6)\n",
      "memory usage: 47.4+ KB\n"
     ]
    }
   ],
   "source": [
    "data_concat.info()"
   ]
  },
  {
   "cell_type": "code",
   "execution_count": 91,
   "id": "b781b663",
   "metadata": {},
   "outputs": [
    {
     "data": {
      "text/html": [
       "<div>\n",
       "<style scoped>\n",
       "    .dataframe tbody tr th:only-of-type {\n",
       "        vertical-align: middle;\n",
       "    }\n",
       "\n",
       "    .dataframe tbody tr th {\n",
       "        vertical-align: top;\n",
       "    }\n",
       "\n",
       "    .dataframe thead th {\n",
       "        text-align: right;\n",
       "    }\n",
       "</style>\n",
       "<table border=\"1\" class=\"dataframe\">\n",
       "  <thead>\n",
       "    <tr style=\"text-align: right;\">\n",
       "      <th></th>\n",
       "      <th>work_year</th>\n",
       "      <th>experience_level</th>\n",
       "      <th>employment_type</th>\n",
       "      <th>job_title</th>\n",
       "      <th>salary_in_usd</th>\n",
       "      <th>employee_residence</th>\n",
       "      <th>remote_ratio</th>\n",
       "      <th>company_location</th>\n",
       "      <th>company_size</th>\n",
       "    </tr>\n",
       "  </thead>\n",
       "  <tbody>\n",
       "    <tr>\n",
       "      <th>0</th>\n",
       "      <td>2022</td>\n",
       "      <td>SE</td>\n",
       "      <td>FT</td>\n",
       "      <td>Data Engineer</td>\n",
       "      <td>140250.0</td>\n",
       "      <td>US</td>\n",
       "      <td>100</td>\n",
       "      <td>US</td>\n",
       "      <td>M</td>\n",
       "    </tr>\n",
       "    <tr>\n",
       "      <th>1</th>\n",
       "      <td>2022</td>\n",
       "      <td>SE</td>\n",
       "      <td>FT</td>\n",
       "      <td>Data Engineer</td>\n",
       "      <td>135000.0</td>\n",
       "      <td>US</td>\n",
       "      <td>100</td>\n",
       "      <td>US</td>\n",
       "      <td>M</td>\n",
       "    </tr>\n",
       "    <tr>\n",
       "      <th>2</th>\n",
       "      <td>2021</td>\n",
       "      <td>MI</td>\n",
       "      <td>FT</td>\n",
       "      <td>BI Data Analyst</td>\n",
       "      <td>100000.0</td>\n",
       "      <td>US</td>\n",
       "      <td>100</td>\n",
       "      <td>US</td>\n",
       "      <td>M</td>\n",
       "    </tr>\n",
       "    <tr>\n",
       "      <th>3</th>\n",
       "      <td>2021</td>\n",
       "      <td>MI</td>\n",
       "      <td>CT</td>\n",
       "      <td>ML Engineer</td>\n",
       "      <td>270000.0</td>\n",
       "      <td>US</td>\n",
       "      <td>100</td>\n",
       "      <td>US</td>\n",
       "      <td>L</td>\n",
       "    </tr>\n",
       "    <tr>\n",
       "      <th>4</th>\n",
       "      <td>2021</td>\n",
       "      <td>MI</td>\n",
       "      <td>FT</td>\n",
       "      <td>Data Engineer</td>\n",
       "      <td>26005.0</td>\n",
       "      <td>RO</td>\n",
       "      <td>0</td>\n",
       "      <td>US</td>\n",
       "      <td>L</td>\n",
       "    </tr>\n",
       "  </tbody>\n",
       "</table>\n",
       "</div>"
      ],
      "text/plain": [
       "   work_year experience_level employment_type        job_title  salary_in_usd  \\\n",
       "0       2022               SE              FT    Data Engineer       140250.0   \n",
       "1       2022               SE              FT    Data Engineer       135000.0   \n",
       "2       2021               MI              FT  BI Data Analyst       100000.0   \n",
       "3       2021               MI              CT      ML Engineer       270000.0   \n",
       "4       2021               MI              FT    Data Engineer        26005.0   \n",
       "\n",
       "  employee_residence  remote_ratio company_location company_size  \n",
       "0                 US           100               US            M  \n",
       "1                 US           100               US            M  \n",
       "2                 US           100               US            M  \n",
       "3                 US           100               US            L  \n",
       "4                 RO             0               US            L  "
      ]
     },
     "execution_count": 91,
     "metadata": {},
     "output_type": "execute_result"
    }
   ],
   "source": [
    "data_concat.head()"
   ]
  },
  {
   "cell_type": "code",
   "execution_count": 92,
   "id": "f4339357",
   "metadata": {},
   "outputs": [
    {
     "data": {
      "text/plain": [
       "US    355\n",
       "GB     47\n",
       "CA     30\n",
       "DE     28\n",
       "IN     24\n",
       "FR     15\n",
       "ES     14\n",
       "GR     11\n",
       "JP      6\n",
       "PT      4\n",
       "AT      4\n",
       "PL      4\n",
       "NL      4\n",
       "PK      3\n",
       "DK      3\n",
       "AU      3\n",
       "BR      3\n",
       "AE      3\n",
       "TR      3\n",
       "LU      3\n",
       "MX      3\n",
       "CH      2\n",
       "IT      2\n",
       "CZ      2\n",
       "RU      2\n",
       "BE      2\n",
       "SI      2\n",
       "NG      2\n",
       "CN      2\n",
       "MT      1\n",
       "HN      1\n",
       "IL      1\n",
       "RO      1\n",
       "SG      1\n",
       "CO      1\n",
       "IQ      1\n",
       "HR      1\n",
       "NZ      1\n",
       "HU      1\n",
       "IR      1\n",
       "DZ      1\n",
       "EE      1\n",
       "UA      1\n",
       "CL      1\n",
       "KE      1\n",
       "VN      1\n",
       "IE      1\n",
       "AS      1\n",
       "MD      1\n",
       "MY      1\n",
       "Name: company_location, dtype: int64"
      ]
     },
     "execution_count": 92,
     "metadata": {},
     "output_type": "execute_result"
    }
   ],
   "source": [
    "data_concat.company_location.value_counts()"
   ]
  },
  {
   "cell_type": "markdown",
   "id": "1b4b5186",
   "metadata": {},
   "source": [
    "# Visualizar la correlación de las columnas numéricas"
   ]
  },
  {
   "cell_type": "code",
   "execution_count": 93,
   "id": "215b902f",
   "metadata": {},
   "outputs": [
    {
     "data": {
      "image/png": "[encoded data removed]",
      "text/plain": [
       "<Figure size 1080x720 with 2 Axes>"
      ]
     },
     "metadata": {
      "needs_background": "light"
     },
     "output_type": "display_data"
    }
   ],
   "source": [
    "import pylab as plt\n",
    "import seaborn as sns\n",
    "\n",
    "%matplotlib inline\n",
    "\n",
    "plt.figure(figsize=(15, 10))\n",
    "\n",
    "sns.set(style='white')\n",
    "\n",
    "mask=np.triu(np.ones_like(data_concat.corr(), dtype=bool))\n",
    "\n",
    "cmap=sns.diverging_palette(0, 10, as_cmap=True)\n",
    "\n",
    "\n",
    "sns.heatmap(data_concat.corr(),\n",
    "           mask=mask,\n",
    "          cmap=cmap,\n",
    "          center=0,\n",
    "          square=True,\n",
    "          annot=True,\n",
    "          linewidths=0.5,\n",
    "          cbar_kws={'shrink': 0.5});"
   ]
  },
  {
   "cell_type": "markdown",
   "id": "82f35c44",
   "metadata": {},
   "source": [
    "# Concatenar ambas dataframe y realizar los cambios necesarios"
   ]
  },
  {
   "cell_type": "code",
   "execution_count": null,
   "id": "79693ca8",
   "metadata": {},
   "outputs": [],
   "source": [
    "#Voy a hacer dummies del employment_type experience_level"
   ]
  },
  {
   "cell_type": "code",
   "execution_count": 94,
   "id": "76d4a274",
   "metadata": {},
   "outputs": [
    {
     "data": {
      "text/html": [
       "<div>\n",
       "<style scoped>\n",
       "    .dataframe tbody tr th:only-of-type {\n",
       "        vertical-align: middle;\n",
       "    }\n",
       "\n",
       "    .dataframe tbody tr th {\n",
       "        vertical-align: top;\n",
       "    }\n",
       "\n",
       "    .dataframe thead th {\n",
       "        text-align: right;\n",
       "    }\n",
       "</style>\n",
       "<table border=\"1\" class=\"dataframe\">\n",
       "  <thead>\n",
       "    <tr style=\"text-align: right;\">\n",
       "      <th></th>\n",
       "      <th>work_year</th>\n",
       "      <th>job_title</th>\n",
       "      <th>salary_in_usd</th>\n",
       "      <th>employee_residence</th>\n",
       "      <th>remote_ratio</th>\n",
       "      <th>company_location</th>\n",
       "      <th>company_size</th>\n",
       "      <th>employment_type_FL</th>\n",
       "      <th>employment_type_FT</th>\n",
       "      <th>employment_type_PT</th>\n",
       "      <th>experience_level_EX</th>\n",
       "      <th>experience_level_MI</th>\n",
       "      <th>experience_level_SE</th>\n",
       "    </tr>\n",
       "  </thead>\n",
       "  <tbody>\n",
       "    <tr>\n",
       "      <th>0</th>\n",
       "      <td>2022</td>\n",
       "      <td>Data Engineer</td>\n",
       "      <td>140250.0</td>\n",
       "      <td>US</td>\n",
       "      <td>100</td>\n",
       "      <td>US</td>\n",
       "      <td>M</td>\n",
       "      <td>0</td>\n",
       "      <td>1</td>\n",
       "      <td>0</td>\n",
       "      <td>0</td>\n",
       "      <td>0</td>\n",
       "      <td>1</td>\n",
       "    </tr>\n",
       "    <tr>\n",
       "      <th>1</th>\n",
       "      <td>2022</td>\n",
       "      <td>Data Engineer</td>\n",
       "      <td>135000.0</td>\n",
       "      <td>US</td>\n",
       "      <td>100</td>\n",
       "      <td>US</td>\n",
       "      <td>M</td>\n",
       "      <td>0</td>\n",
       "      <td>1</td>\n",
       "      <td>0</td>\n",
       "      <td>0</td>\n",
       "      <td>0</td>\n",
       "      <td>1</td>\n",
       "    </tr>\n",
       "    <tr>\n",
       "      <th>2</th>\n",
       "      <td>2021</td>\n",
       "      <td>BI Data Analyst</td>\n",
       "      <td>100000.0</td>\n",
       "      <td>US</td>\n",
       "      <td>100</td>\n",
       "      <td>US</td>\n",
       "      <td>M</td>\n",
       "      <td>0</td>\n",
       "      <td>1</td>\n",
       "      <td>0</td>\n",
       "      <td>0</td>\n",
       "      <td>1</td>\n",
       "      <td>0</td>\n",
       "    </tr>\n",
       "    <tr>\n",
       "      <th>3</th>\n",
       "      <td>2021</td>\n",
       "      <td>ML Engineer</td>\n",
       "      <td>270000.0</td>\n",
       "      <td>US</td>\n",
       "      <td>100</td>\n",
       "      <td>US</td>\n",
       "      <td>L</td>\n",
       "      <td>0</td>\n",
       "      <td>0</td>\n",
       "      <td>0</td>\n",
       "      <td>0</td>\n",
       "      <td>1</td>\n",
       "      <td>0</td>\n",
       "    </tr>\n",
       "    <tr>\n",
       "      <th>4</th>\n",
       "      <td>2021</td>\n",
       "      <td>Data Engineer</td>\n",
       "      <td>26005.0</td>\n",
       "      <td>RO</td>\n",
       "      <td>0</td>\n",
       "      <td>US</td>\n",
       "      <td>L</td>\n",
       "      <td>0</td>\n",
       "      <td>1</td>\n",
       "      <td>0</td>\n",
       "      <td>0</td>\n",
       "      <td>1</td>\n",
       "      <td>0</td>\n",
       "    </tr>\n",
       "  </tbody>\n",
       "</table>\n",
       "</div>"
      ],
      "text/plain": [
       "   work_year        job_title  salary_in_usd employee_residence  remote_ratio  \\\n",
       "0       2022    Data Engineer       140250.0                 US           100   \n",
       "1       2022    Data Engineer       135000.0                 US           100   \n",
       "2       2021  BI Data Analyst       100000.0                 US           100   \n",
       "3       2021      ML Engineer       270000.0                 US           100   \n",
       "4       2021    Data Engineer        26005.0                 RO             0   \n",
       "\n",
       "  company_location company_size  employment_type_FL  employment_type_FT  \\\n",
       "0               US            M                   0                   1   \n",
       "1               US            M                   0                   1   \n",
       "2               US            M                   0                   1   \n",
       "3               US            L                   0                   0   \n",
       "4               US            L                   0                   1   \n",
       "\n",
       "   employment_type_PT  experience_level_EX  experience_level_MI  \\\n",
       "0                   0                    0                    0   \n",
       "1                   0                    0                    0   \n",
       "2                   0                    0                    1   \n",
       "3                   0                    0                    1   \n",
       "4                   0                    0                    1   \n",
       "\n",
       "   experience_level_SE  \n",
       "0                    1  \n",
       "1                    1  \n",
       "2                    0  \n",
       "3                    0  \n",
       "4                    0  "
      ]
     },
     "execution_count": 94,
     "metadata": {},
     "output_type": "execute_result"
    }
   ],
   "source": [
    "X=pd.get_dummies(data_concat,columns=['employment_type','experience_level'],drop_first=True)   # drop_first=True, por defecto es False \n",
    "\n",
    "X.head()"
   ]
  },
  {
   "cell_type": "code",
   "execution_count": 95,
   "id": "1c5b884f",
   "metadata": {},
   "outputs": [],
   "source": [
    "x=X.select_dtypes(exclude='object')"
   ]
  },
  {
   "cell_type": "code",
   "execution_count": 21,
   "id": "a9525966",
   "metadata": {},
   "outputs": [
    {
     "data": {
      "text/html": [
       "<div>\n",
       "<style scoped>\n",
       "    .dataframe tbody tr th:only-of-type {\n",
       "        vertical-align: middle;\n",
       "    }\n",
       "\n",
       "    .dataframe tbody tr th {\n",
       "        vertical-align: top;\n",
       "    }\n",
       "\n",
       "    .dataframe thead th {\n",
       "        text-align: right;\n",
       "    }\n",
       "</style>\n",
       "<table border=\"1\" class=\"dataframe\">\n",
       "  <thead>\n",
       "    <tr style=\"text-align: right;\">\n",
       "      <th></th>\n",
       "      <th>work_year</th>\n",
       "      <th>salary_in_usd</th>\n",
       "      <th>remote_ratio</th>\n",
       "      <th>employment_type_FL</th>\n",
       "      <th>employment_type_FT</th>\n",
       "      <th>employment_type_PT</th>\n",
       "      <th>experience_level_EX</th>\n",
       "      <th>experience_level_MI</th>\n",
       "      <th>experience_level_SE</th>\n",
       "    </tr>\n",
       "  </thead>\n",
       "  <tbody>\n",
       "    <tr>\n",
       "      <th>0</th>\n",
       "      <td>2022</td>\n",
       "      <td>140250.0</td>\n",
       "      <td>100</td>\n",
       "      <td>0</td>\n",
       "      <td>1</td>\n",
       "      <td>0</td>\n",
       "      <td>0</td>\n",
       "      <td>0</td>\n",
       "      <td>1</td>\n",
       "    </tr>\n",
       "    <tr>\n",
       "      <th>1</th>\n",
       "      <td>2022</td>\n",
       "      <td>135000.0</td>\n",
       "      <td>100</td>\n",
       "      <td>0</td>\n",
       "      <td>1</td>\n",
       "      <td>0</td>\n",
       "      <td>0</td>\n",
       "      <td>0</td>\n",
       "      <td>1</td>\n",
       "    </tr>\n",
       "    <tr>\n",
       "      <th>2</th>\n",
       "      <td>2021</td>\n",
       "      <td>100000.0</td>\n",
       "      <td>100</td>\n",
       "      <td>0</td>\n",
       "      <td>1</td>\n",
       "      <td>0</td>\n",
       "      <td>0</td>\n",
       "      <td>1</td>\n",
       "      <td>0</td>\n",
       "    </tr>\n",
       "    <tr>\n",
       "      <th>3</th>\n",
       "      <td>2021</td>\n",
       "      <td>270000.0</td>\n",
       "      <td>100</td>\n",
       "      <td>0</td>\n",
       "      <td>0</td>\n",
       "      <td>0</td>\n",
       "      <td>0</td>\n",
       "      <td>1</td>\n",
       "      <td>0</td>\n",
       "    </tr>\n",
       "    <tr>\n",
       "      <th>4</th>\n",
       "      <td>2021</td>\n",
       "      <td>26005.0</td>\n",
       "      <td>0</td>\n",
       "      <td>0</td>\n",
       "      <td>1</td>\n",
       "      <td>0</td>\n",
       "      <td>0</td>\n",
       "      <td>1</td>\n",
       "      <td>0</td>\n",
       "    </tr>\n",
       "    <tr>\n",
       "      <th>...</th>\n",
       "      <td>...</td>\n",
       "      <td>...</td>\n",
       "      <td>...</td>\n",
       "      <td>...</td>\n",
       "      <td>...</td>\n",
       "      <td>...</td>\n",
       "      <td>...</td>\n",
       "      <td>...</td>\n",
       "      <td>...</td>\n",
       "    </tr>\n",
       "    <tr>\n",
       "      <th>102</th>\n",
       "      <td>2022</td>\n",
       "      <td>NaN</td>\n",
       "      <td>100</td>\n",
       "      <td>0</td>\n",
       "      <td>1</td>\n",
       "      <td>0</td>\n",
       "      <td>0</td>\n",
       "      <td>0</td>\n",
       "      <td>1</td>\n",
       "    </tr>\n",
       "    <tr>\n",
       "      <th>103</th>\n",
       "      <td>2022</td>\n",
       "      <td>NaN</td>\n",
       "      <td>100</td>\n",
       "      <td>0</td>\n",
       "      <td>1</td>\n",
       "      <td>0</td>\n",
       "      <td>0</td>\n",
       "      <td>0</td>\n",
       "      <td>1</td>\n",
       "    </tr>\n",
       "    <tr>\n",
       "      <th>104</th>\n",
       "      <td>2022</td>\n",
       "      <td>NaN</td>\n",
       "      <td>100</td>\n",
       "      <td>0</td>\n",
       "      <td>1</td>\n",
       "      <td>0</td>\n",
       "      <td>0</td>\n",
       "      <td>0</td>\n",
       "      <td>1</td>\n",
       "    </tr>\n",
       "    <tr>\n",
       "      <th>105</th>\n",
       "      <td>2022</td>\n",
       "      <td>NaN</td>\n",
       "      <td>0</td>\n",
       "      <td>0</td>\n",
       "      <td>1</td>\n",
       "      <td>0</td>\n",
       "      <td>0</td>\n",
       "      <td>0</td>\n",
       "      <td>0</td>\n",
       "    </tr>\n",
       "    <tr>\n",
       "      <th>106</th>\n",
       "      <td>2022</td>\n",
       "      <td>NaN</td>\n",
       "      <td>0</td>\n",
       "      <td>0</td>\n",
       "      <td>1</td>\n",
       "      <td>0</td>\n",
       "      <td>0</td>\n",
       "      <td>0</td>\n",
       "      <td>1</td>\n",
       "    </tr>\n",
       "  </tbody>\n",
       "</table>\n",
       "<p>607 rows × 9 columns</p>\n",
       "</div>"
      ],
      "text/plain": [
       "     work_year  salary_in_usd  remote_ratio  employment_type_FL  \\\n",
       "0         2022       140250.0           100                   0   \n",
       "1         2022       135000.0           100                   0   \n",
       "2         2021       100000.0           100                   0   \n",
       "3         2021       270000.0           100                   0   \n",
       "4         2021        26005.0             0                   0   \n",
       "..         ...            ...           ...                 ...   \n",
       "102       2022            NaN           100                   0   \n",
       "103       2022            NaN           100                   0   \n",
       "104       2022            NaN           100                   0   \n",
       "105       2022            NaN             0                   0   \n",
       "106       2022            NaN             0                   0   \n",
       "\n",
       "     employment_type_FT  employment_type_PT  experience_level_EX  \\\n",
       "0                     1                   0                    0   \n",
       "1                     1                   0                    0   \n",
       "2                     1                   0                    0   \n",
       "3                     0                   0                    0   \n",
       "4                     1                   0                    0   \n",
       "..                  ...                 ...                  ...   \n",
       "102                   1                   0                    0   \n",
       "103                   1                   0                    0   \n",
       "104                   1                   0                    0   \n",
       "105                   1                   0                    0   \n",
       "106                   1                   0                    0   \n",
       "\n",
       "     experience_level_MI  experience_level_SE  \n",
       "0                      0                    1  \n",
       "1                      0                    1  \n",
       "2                      1                    0  \n",
       "3                      1                    0  \n",
       "4                      1                    0  \n",
       "..                   ...                  ...  \n",
       "102                    0                    1  \n",
       "103                    0                    1  \n",
       "104                    0                    1  \n",
       "105                    0                    0  \n",
       "106                    0                    1  \n",
       "\n",
       "[607 rows x 9 columns]"
      ]
     },
     "execution_count": 21,
     "metadata": {},
     "output_type": "execute_result"
    }
   ],
   "source": [
    "x"
   ]
  },
  {
   "cell_type": "markdown",
   "id": "bbf0b3ab",
   "metadata": {},
   "source": [
    "# Separar de nuevo las tablas en train y test"
   ]
  },
  {
   "cell_type": "code",
   "execution_count": 100,
   "id": "b787bf3a",
   "metadata": {},
   "outputs": [],
   "source": [
    "x.reset_index(drop=True,inplace=True)\n",
    "data_train=x.loc[0:499]"
   ]
  },
  {
   "cell_type": "code",
   "execution_count": 101,
   "id": "5e6b8c69",
   "metadata": {},
   "outputs": [],
   "source": [
    "data_test=x.loc[500:].drop(['salary_in_usd'],axis=1)\n"
   ]
  },
  {
   "cell_type": "code",
   "execution_count": 98,
   "id": "8479572f",
   "metadata": {},
   "outputs": [
    {
     "data": {
      "text/html": [
       "<div>\n",
       "<style scoped>\n",
       "    .dataframe tbody tr th:only-of-type {\n",
       "        vertical-align: middle;\n",
       "    }\n",
       "\n",
       "    .dataframe tbody tr th {\n",
       "        vertical-align: top;\n",
       "    }\n",
       "\n",
       "    .dataframe thead th {\n",
       "        text-align: right;\n",
       "    }\n",
       "</style>\n",
       "<table border=\"1\" class=\"dataframe\">\n",
       "  <thead>\n",
       "    <tr style=\"text-align: right;\">\n",
       "      <th></th>\n",
       "      <th>work_year</th>\n",
       "      <th>salary_in_usd</th>\n",
       "      <th>remote_ratio</th>\n",
       "      <th>employment_type_FL</th>\n",
       "      <th>employment_type_FT</th>\n",
       "      <th>employment_type_PT</th>\n",
       "      <th>experience_level_EX</th>\n",
       "      <th>experience_level_MI</th>\n",
       "      <th>experience_level_SE</th>\n",
       "    </tr>\n",
       "  </thead>\n",
       "  <tbody>\n",
       "    <tr>\n",
       "      <th>0</th>\n",
       "      <td>2022</td>\n",
       "      <td>140250.0</td>\n",
       "      <td>100</td>\n",
       "      <td>0</td>\n",
       "      <td>1</td>\n",
       "      <td>0</td>\n",
       "      <td>0</td>\n",
       "      <td>0</td>\n",
       "      <td>1</td>\n",
       "    </tr>\n",
       "    <tr>\n",
       "      <th>1</th>\n",
       "      <td>2022</td>\n",
       "      <td>135000.0</td>\n",
       "      <td>100</td>\n",
       "      <td>0</td>\n",
       "      <td>1</td>\n",
       "      <td>0</td>\n",
       "      <td>0</td>\n",
       "      <td>0</td>\n",
       "      <td>1</td>\n",
       "    </tr>\n",
       "    <tr>\n",
       "      <th>2</th>\n",
       "      <td>2021</td>\n",
       "      <td>100000.0</td>\n",
       "      <td>100</td>\n",
       "      <td>0</td>\n",
       "      <td>1</td>\n",
       "      <td>0</td>\n",
       "      <td>0</td>\n",
       "      <td>1</td>\n",
       "      <td>0</td>\n",
       "    </tr>\n",
       "    <tr>\n",
       "      <th>3</th>\n",
       "      <td>2021</td>\n",
       "      <td>270000.0</td>\n",
       "      <td>100</td>\n",
       "      <td>0</td>\n",
       "      <td>0</td>\n",
       "      <td>0</td>\n",
       "      <td>0</td>\n",
       "      <td>1</td>\n",
       "      <td>0</td>\n",
       "    </tr>\n",
       "    <tr>\n",
       "      <th>4</th>\n",
       "      <td>2021</td>\n",
       "      <td>26005.0</td>\n",
       "      <td>0</td>\n",
       "      <td>0</td>\n",
       "      <td>1</td>\n",
       "      <td>0</td>\n",
       "      <td>0</td>\n",
       "      <td>1</td>\n",
       "      <td>0</td>\n",
       "    </tr>\n",
       "    <tr>\n",
       "      <th>...</th>\n",
       "      <td>...</td>\n",
       "      <td>...</td>\n",
       "      <td>...</td>\n",
       "      <td>...</td>\n",
       "      <td>...</td>\n",
       "      <td>...</td>\n",
       "      <td>...</td>\n",
       "      <td>...</td>\n",
       "      <td>...</td>\n",
       "    </tr>\n",
       "    <tr>\n",
       "      <th>495</th>\n",
       "      <td>2022</td>\n",
       "      <td>100000.0</td>\n",
       "      <td>100</td>\n",
       "      <td>0</td>\n",
       "      <td>1</td>\n",
       "      <td>0</td>\n",
       "      <td>0</td>\n",
       "      <td>0</td>\n",
       "      <td>1</td>\n",
       "    </tr>\n",
       "    <tr>\n",
       "      <th>496</th>\n",
       "      <td>2021</td>\n",
       "      <td>5882.0</td>\n",
       "      <td>0</td>\n",
       "      <td>0</td>\n",
       "      <td>1</td>\n",
       "      <td>0</td>\n",
       "      <td>0</td>\n",
       "      <td>0</td>\n",
       "      <td>0</td>\n",
       "    </tr>\n",
       "    <tr>\n",
       "      <th>497</th>\n",
       "      <td>2022</td>\n",
       "      <td>90700.0</td>\n",
       "      <td>100</td>\n",
       "      <td>0</td>\n",
       "      <td>1</td>\n",
       "      <td>0</td>\n",
       "      <td>0</td>\n",
       "      <td>0</td>\n",
       "      <td>1</td>\n",
       "    </tr>\n",
       "    <tr>\n",
       "      <th>498</th>\n",
       "      <td>2021</td>\n",
       "      <td>82528.0</td>\n",
       "      <td>100</td>\n",
       "      <td>0</td>\n",
       "      <td>1</td>\n",
       "      <td>0</td>\n",
       "      <td>0</td>\n",
       "      <td>1</td>\n",
       "      <td>0</td>\n",
       "    </tr>\n",
       "    <tr>\n",
       "      <th>499</th>\n",
       "      <td>2021</td>\n",
       "      <td>70000.0</td>\n",
       "      <td>100</td>\n",
       "      <td>0</td>\n",
       "      <td>1</td>\n",
       "      <td>0</td>\n",
       "      <td>0</td>\n",
       "      <td>0</td>\n",
       "      <td>0</td>\n",
       "    </tr>\n",
       "  </tbody>\n",
       "</table>\n",
       "<p>500 rows × 9 columns</p>\n",
       "</div>"
      ],
      "text/plain": [
       "     work_year  salary_in_usd  remote_ratio  employment_type_FL  \\\n",
       "0         2022       140250.0           100                   0   \n",
       "1         2022       135000.0           100                   0   \n",
       "2         2021       100000.0           100                   0   \n",
       "3         2021       270000.0           100                   0   \n",
       "4         2021        26005.0             0                   0   \n",
       "..         ...            ...           ...                 ...   \n",
       "495       2022       100000.0           100                   0   \n",
       "496       2021         5882.0             0                   0   \n",
       "497       2022        90700.0           100                   0   \n",
       "498       2021        82528.0           100                   0   \n",
       "499       2021        70000.0           100                   0   \n",
       "\n",
       "     employment_type_FT  employment_type_PT  experience_level_EX  \\\n",
       "0                     1                   0                    0   \n",
       "1                     1                   0                    0   \n",
       "2                     1                   0                    0   \n",
       "3                     0                   0                    0   \n",
       "4                     1                   0                    0   \n",
       "..                  ...                 ...                  ...   \n",
       "495                   1                   0                    0   \n",
       "496                   1                   0                    0   \n",
       "497                   1                   0                    0   \n",
       "498                   1                   0                    0   \n",
       "499                   1                   0                    0   \n",
       "\n",
       "     experience_level_MI  experience_level_SE  \n",
       "0                      0                    1  \n",
       "1                      0                    1  \n",
       "2                      1                    0  \n",
       "3                      1                    0  \n",
       "4                      1                    0  \n",
       "..                   ...                  ...  \n",
       "495                    0                    1  \n",
       "496                    0                    0  \n",
       "497                    0                    1  \n",
       "498                    1                    0  \n",
       "499                    0                    0  \n",
       "\n",
       "[500 rows x 9 columns]"
      ]
     },
     "execution_count": 98,
     "metadata": {},
     "output_type": "execute_result"
    }
   ],
   "source": [
    "data_train\n"
   ]
  },
  {
   "cell_type": "markdown",
   "id": "cbbfe7fa",
   "metadata": {},
   "source": [
    "# Separar x,y para entrenar el modelo con la tabla de train"
   ]
  },
  {
   "cell_type": "code",
   "execution_count": 102,
   "id": "00171cef",
   "metadata": {},
   "outputs": [],
   "source": [
    "X=data_train.drop(['salary_in_usd'],axis=1)\n",
    "y=data_train['salary_in_usd']"
   ]
  },
  {
   "cell_type": "code",
   "execution_count": 104,
   "id": "ce33395d",
   "metadata": {},
   "outputs": [
    {
     "data": {
      "text/plain": [
       "0      140250.0\n",
       "1      135000.0\n",
       "2      100000.0\n",
       "3      270000.0\n",
       "4       26005.0\n",
       "         ...   \n",
       "495    100000.0\n",
       "496      5882.0\n",
       "497     90700.0\n",
       "498     82528.0\n",
       "499     70000.0\n",
       "Name: salary_in_usd, Length: 500, dtype: float64"
      ]
     },
     "execution_count": 104,
     "metadata": {},
     "output_type": "execute_result"
    }
   ],
   "source": [
    "y"
   ]
  },
  {
   "cell_type": "code",
   "execution_count": 105,
   "id": "8c91ab35",
   "metadata": {},
   "outputs": [
    {
     "data": {
      "text/plain": [
       "((400, 8), (100, 8), (400,), (100,))"
      ]
     },
     "execution_count": 105,
     "metadata": {},
     "output_type": "execute_result"
    }
   ],
   "source": [
    "from sklearn.model_selection import train_test_split as tts # el alias es cosa mia\n",
    "\n",
    "X_train, X_test, y_train, y_test = tts(X, y, train_size=0.8, test_size=0.2, random_state=22)\n",
    "\n",
    "X_train.shape, X_test.shape, y_train.shape, y_test.shape"
   ]
  },
  {
   "cell_type": "markdown",
   "id": "d62a1d3f",
   "metadata": {},
   "source": [
    "# Importar el modelo Linear regression, entrenarlo y predecir con train. Visualizar el error respecto a la y de train."
   ]
  },
  {
   "cell_type": "code",
   "execution_count": 106,
   "id": "12e96c5d",
   "metadata": {},
   "outputs": [
    {
     "data": {
      "text/plain": [
       "LinearRegression()"
      ]
     },
     "execution_count": 106,
     "metadata": {},
     "output_type": "execute_result"
    }
   ],
   "source": [
    "from sklearn.linear_model import LinearRegression as LinReg\n",
    "linreg=LinReg()\n",
    "linreg.fit(X_train, y_train)"
   ]
  },
  {
   "cell_type": "code",
   "execution_count": 107,
   "id": "5d2061c9",
   "metadata": {},
   "outputs": [
    {
     "data": {
      "text/plain": [
       "194546.25748676946"
      ]
     },
     "execution_count": 107,
     "metadata": {},
     "output_type": "execute_result"
    }
   ],
   "source": [
    "y_pred=linreg.predict(X_test)\n",
    "y_pred.max()"
   ]
  },
  {
   "cell_type": "code",
   "execution_count": 108,
   "id": "2e699589",
   "metadata": {},
   "outputs": [
    {
     "data": {
      "text/plain": [
       "46729.93794732341"
      ]
     },
     "execution_count": 108,
     "metadata": {},
     "output_type": "execute_result"
    }
   ],
   "source": [
    "from sklearn.metrics import mean_squared_error as mse  # error cuadratico medio\n",
    "y_pred=linreg.predict(X_test)\n",
    "\n",
    "mse(y_test, y_pred, squared=False)"
   ]
  },
  {
   "cell_type": "code",
   "execution_count": 109,
   "id": "108e4922",
   "metadata": {},
   "outputs": [
    {
     "data": {
      "text/plain": [
       "array([ 98421.04737446, 126634.42184566, 143569.82478466,  98421.04737446,\n",
       "       143569.82478466, 124538.82365865, 100516.64556148, 100516.64556148,\n",
       "        53338.90635486,  83581.24262248, 143569.82478466,  98421.04737446,\n",
       "       100516.64556148, 133006.52512815, 143569.82478466,  98421.04737446,\n",
       "        68178.71110685,  81485.64443546, 100516.64556148, 141474.22659765,\n",
       "       143569.82478466,  70274.30929386,  83581.24262248,  70274.30929386,\n",
       "       100516.64556148, 143569.82478466, 141474.22659765, 139378.62841063,\n",
       "       143569.82478466, 143569.82478466, 122443.22547163, 143569.82478466,\n",
       "       141474.22659765, 191958.60442576, 100516.64556148,  83581.24262248,\n",
       "       143569.82478466, 100516.64556148, 143569.82478466, 143569.82478466,\n",
       "       126634.42184566,  98421.04737446, 126634.42184566, 126634.42184566,\n",
       "       143569.82478466,  83581.24262248, 143569.82478466,  83581.24262248,\n",
       "        70274.30929386,  89953.34590496, 143569.82478466,  89953.34590496,\n",
       "        68178.71110685, 126634.42184566, 133006.52512815, 143569.82478466,\n",
       "       143569.82478466, 126634.42184566, 130910.92694113, 130910.92694113,\n",
       "       126634.42184566, 143569.82478466,  98421.04737446, 124538.82365865,\n",
       "       100516.64556148, 100516.64556148, 143569.82478466,  72369.90748088,\n",
       "        98421.04737446, 126634.42184566, 130910.92694113, 143569.82478466,\n",
       "       124538.82365865,  87857.74771795,  98421.04737446,  89953.34590496,\n",
       "       124538.82365865,  70274.30929386, 194546.25748677,  72369.90748088,\n",
       "        98421.04737446, 133006.52512815, 141474.22659765,  83581.24262248,\n",
       "       161716.26815814, 143569.82478466, 100516.64556148,  55434.50454188,\n",
       "       141474.22659765, 133006.52512815,  51243.30816785, 143569.82478466,\n",
       "        27861.60113615, 126634.42184566, 143569.82478466, 126634.42184566,\n",
       "       143569.82478466, 100516.64556148, 143569.82478466, 194546.25748677])"
      ]
     },
     "execution_count": 109,
     "metadata": {},
     "output_type": "execute_result"
    }
   ],
   "source": [
    "y_pred"
   ]
  },
  {
   "cell_type": "markdown",
   "id": "ad3859a5",
   "metadata": {},
   "source": [
    "# Con el modelo ya entrenado, hacer la predicción que sería la solución en base a la tabla de test."
   ]
  },
  {
   "cell_type": "code",
   "execution_count": 111,
   "id": "ac6d1d5e",
   "metadata": {},
   "outputs": [],
   "source": [
    "y_pred2=linreg.predict(data_test)"
   ]
  },
  {
   "cell_type": "code",
   "execution_count": 112,
   "id": "b400e24e",
   "metadata": {},
   "outputs": [
    {
     "data": {
      "text/plain": [
       "107"
      ]
     },
     "execution_count": 112,
     "metadata": {},
     "output_type": "execute_result"
    }
   ],
   "source": [
    "len(y_pred2)"
   ]
  },
  {
   "cell_type": "markdown",
   "id": "2de5ebda",
   "metadata": {},
   "source": [
    "## Crear la tabla que será la solución. Exportarlo a .csv y subirlo a Kaggle"
   ]
  },
  {
   "cell_type": "code",
   "execution_count": 113,
   "id": "5c66bebf",
   "metadata": {},
   "outputs": [],
   "source": [
    "sol=pd.DataFrame()\n",
    "\n",
    "sol['id']=[i for i in range(len(y_pred2))]\n",
    "\n",
    "sol['salary_in_usd']=y_pred2"
   ]
  },
  {
   "cell_type": "code",
   "execution_count": 114,
   "id": "98301163",
   "metadata": {},
   "outputs": [],
   "source": [
    "sol.to_csv('solucionMar.csv',index=False)"
   ]
  }
 ],
 "metadata": {
  "kernelspec": {
   "display_name": "Python 3 (ipykernel)",
   "language": "python",
   "name": "python3"
  },
  "language_info": {
   "codemirror_mode": {
    "name": "ipython",
    "version": 3
   },
   "file_extension": ".py",
   "mimetype": "text/x-python",
   "name": "python",
   "nbconvert_exporter": "python",
   "pygments_lexer": "ipython3",
   "version": "3.9.12"
  }
 },
 "nbformat": 4,
 "nbformat_minor": 5
}
